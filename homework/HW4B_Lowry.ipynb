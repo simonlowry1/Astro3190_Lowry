{
 "cells": [
  {
   "cell_type": "markdown",
   "metadata": {},
   "source": [
    "**<font color='red'>Change the name from assignment_lastname to include YOUR last name</font>**. This will make sure that the assignment doesn't get overwritten when you do a git pull in class. "
   ]
  },
  {
   "cell_type": "markdown",
   "metadata": {},
   "source": [
    "# Homework 4B - the coding portion"
   ]
  },
  {
   "cell_type": "markdown",
   "metadata": {},
   "source": [
    "## Due: Friday, March 26"
   ]
  },
  {
   "cell_type": "markdown",
   "metadata": {},
   "source": [
    "Skills: Loops, lists, functions"
   ]
  },
  {
   "cell_type": "markdown",
   "metadata": {},
   "source": [
    "Remember to push to your github!"
   ]
  },
  {
   "cell_type": "markdown",
   "metadata": {},
   "source": [
    "Always start with your import statement!"
   ]
  },
  {
   "cell_type": "code",
   "execution_count": 1,
   "metadata": {},
   "outputs": [],
   "source": [
    "import numpy as np"
   ]
  },
  {
   "cell_type": "markdown",
   "metadata": {},
   "source": [
    "**Please read before completing exercise 1**\n",
    "Functions are a really useful tool for automating tasks that you want to do over and over again. For this first excercise, we will be building up to writing a function that calculates the Schwartzchild radius, or the size of the event horizon, of a black hole. You can read up a bit more on the Schwartzchild radius [here](http://www.astronomy.ohio-state.edu/~thompson/1144/Lecture19.html) if you would like. The only thing you're really going to need to know is the equation use to calculate the Schwartzchild radius: <br>\n",
    "$R_{S} = \\frac{2\\ G\\ M_{BH}}{c^{2}}$ <br>\n",
    "Where $R_{S}$ is the Schwartzchild radius, or radius of the event horizon. $G$ is the gravitational constant, a physical constant used to calculate gravitational effects. $M_{BH}$ is the mass of the black hole and $c$ is the speed of light, another physical constant."
   ]
  },
  {
   "cell_type": "markdown",
   "metadata": {},
   "source": [
    "First, we need to define our constants: $G$ and $c$. I'm putting in the values for you below, you just need to execute the cell. Note that astronomers use a base set of units called ``cgs``, short for centimeters-grams-seconds. Many of you might be familiar with SI units from a physics class which uses meters-kilograms-seconds. We keep all constants in the same base units to avoid doing too much unit conversion."
   ]
  },
  {
   "cell_type": "code",
   "execution_count": 2,
   "metadata": {},
   "outputs": [],
   "source": [
    "G = 6.6725985E-8 #cm^3 g^-1 s^-2\n",
    "c = 2.99792458E10 #cm s^-1"
   ]
  },
  {
   "cell_type": "markdown",
   "metadata": {},
   "source": [
    "**1)**\n",
    "Use the equation above to calculate the size of the Schwartzchild radius for a black hole with a mass of 10$M_{\\odot}$. Note that $1 M_{\\odot}=1.99 \\times 10^{33}$ grams. You will need to multiply 10 by this conversion factor to use the constants above and have your units work out."
   ]
  },
  {
   "cell_type": "code",
   "execution_count": 3,
   "metadata": {},
   "outputs": [
    {
     "name": "stdout",
     "output_type": "stream",
     "text": [
      "2954858.303829219 cm\n"
     ]
    }
   ],
   "source": [
    "radius_of_10M_star = 2 * G * 10 * 1.99e33 / (c**2)\n",
    "print(radius_of_10M_star , \"cm\")"
   ]
  },
  {
   "cell_type": "markdown",
   "metadata": {},
   "source": [
    "**2)**\n",
    "Write a function called `schwartzchild_radius` that takes in a black hole mass and returns the Schwartzchild radius in centimeters. Please refer to our in class notebook on functions if you need to remember the structure a function has in python. Run your function and print out the Schwartzchild radius of a black hole with a mass of $1M_{\\odot}$."
   ]
  },
  {
   "cell_type": "code",
   "execution_count": 4,
   "metadata": {},
   "outputs": [],
   "source": [
    "def schwartzchild_radius(bh_mass):\n",
    "    event_horizon = 2 * G * bh_mass * 1.99e33 / (c**2)\n",
    "    return(event_horizon)"
   ]
  },
  {
   "cell_type": "code",
   "execution_count": 5,
   "metadata": {},
   "outputs": [
    {
     "name": "stdout",
     "output_type": "stream",
     "text": [
      "295485.8303829219 cm\n"
     ]
    }
   ],
   "source": [
    "print(schwartzchild_radius(1), \"cm\")"
   ]
  },
  {
   "cell_type": "markdown",
   "metadata": {},
   "source": [
    "**3)** Copy your function into the cell below and modify it so that it prints out the Schwartzchild radius to screen in both cm and solar radii (X times the radius of the Sun). *Hint: $1 R_{\\odot}=6.96 \\times 10^{10}$ cm.*"
   ]
  },
  {
   "cell_type": "code",
   "execution_count": 6,
   "metadata": {},
   "outputs": [],
   "source": [
    "def schwartzchild_radius(bh_mass):\n",
    "    event_horizon = 2 * G * bh_mass * 1.99e33 / (c**2)\n",
    "    print(event_horizon , \"cm\")\n",
    "    print(event_horizon / (6.96e10) , \"R(sun)\")"
   ]
  },
  {
   "cell_type": "code",
   "execution_count": 7,
   "metadata": {},
   "outputs": [
    {
     "name": "stdout",
     "output_type": "stream",
     "text": [
      "295485.8303829219 cm\n",
      "4.2454860687201425e-06 R(sun)\n"
     ]
    }
   ],
   "source": [
    "schwartzchild_radius(1)"
   ]
  },
  {
   "cell_type": "markdown",
   "metadata": {},
   "source": [
    "**4)** Now imagine that we could make a black hole out of the Earth (we can't). The mass of the Earth is $5.9 \\times 10^{27}$ grams. Calculate what the Earth's mass is in terms of solar masses and the use your function to calculate the Schwartzchild radius the Earth would have if it could collapse into a black hole. Google around to find some physical item you are familiar with that is about the same size."
   ]
  },
  {
   "cell_type": "code",
   "execution_count": 8,
   "metadata": {},
   "outputs": [
    {
     "name": "stdout",
     "output_type": "stream",
     "text": [
      "0.8760635172156982 cm\n",
      "1.2587119500225549e-11 R(sun)\n"
     ]
    }
   ],
   "source": [
    "earth_mass = 5.9e27 / 1.99e33 #mass of earth in solar masses\n",
    "schwartzchild_radius(earth_mass)"
   ]
  },
  {
   "cell_type": "code",
   "execution_count": 9,
   "metadata": {},
   "outputs": [],
   "source": [
    "#This is the same size as a pea or a little marble"
   ]
  },
  {
   "cell_type": "markdown",
   "metadata": {},
   "source": [
    "**5)**\n",
    "The mass of the black hole in the center of M87 that was measured by the Event Horizon Telescope team is $6.5\\times 10^{9} M_{\\odot}$. Calculate the radius of the event horizon for this black hole in both centimeters and solar radii."
   ]
  },
  {
   "cell_type": "code",
   "execution_count": 10,
   "metadata": {},
   "outputs": [
    {
     "name": "stdout",
     "output_type": "stream",
     "text": [
      "1920657897488992.5 cm\n",
      "27595.659446680926 R(sun)\n"
     ]
    }
   ],
   "source": [
    "schwartzchild_radius(6.5e9)"
   ]
  },
  {
   "cell_type": "markdown",
   "metadata": {},
   "source": [
    "**6)** The ring diameter in the paper is given as ~$42 \\mu$as, or 42 micro-arcseconds. An arcsecond is a unit we us in astronomy to measure how big something looks on the sky. The size of an object in the sky depends on both the size of the object itself and its distance away from us. You can calculate the angular size of an object using the following equation: <br>\n",
    "$\\theta = \\frac{d\\ \\times\\ 206264}{D}$ arcseconds<br>\n",
    "Where $\\theta$ is the angular size of the object in arcseconds. The factor of 206,264 in the equation converts from radians to arcseconds for you. $d$ is the physical diameter of the object and D is the distance to that object. You need both $d$ and $D$ to be given in the same units. Here we will use centimeters. <br>\n",
    "\n",
    "Write a function called `angular_size` that takes in the DIAMETER (not the radius) of an object in centimeters and the distance to that object in centimeters and returns its angular size in arcseconds. The distance to M87 is ~ $5 \\times 10^{25}$ centimeters. Use your function to print out the angular size of the black hole in M87 in arcseconds. Use the radius you calculated in the question above and the distance to M87 listed above for your calculations."
   ]
  },
  {
   "cell_type": "code",
   "execution_count": 11,
   "metadata": {},
   "outputs": [],
   "source": [
    "def angular_size(object_diameter, distance_to_object):\n",
    "    angular_diameter = object_diameter * 206264 / distance_to_object\n",
    "    return(angular_diameter)"
   ]
  },
  {
   "cell_type": "code",
   "execution_count": 12,
   "metadata": {},
   "outputs": [
    {
     "name": "stdout",
     "output_type": "stream",
     "text": [
      "1.584650322270678e-05\n"
     ]
    }
   ],
   "source": [
    "print(angular_size(1920657897488992.5 * 2 , 5e25))"
   ]
  },
  {
   "cell_type": "markdown",
   "metadata": {},
   "source": [
    "**7)**\n",
    "How does this angular size compare to the ring diameter listed in the paper? If your answers don't match up, why not (look back at your reading questions from part A)? *Hint: $1 \\mu as = 1.0 \\times 10^{-6} as$* "
   ]
  },
  {
   "cell_type": "markdown",
   "metadata": {},
   "source": [
    "1.58e(-5) is 16 micro-arcseconds (~3 times smaller than the ring diametre listed). This is because at orbital radii smaller than 3 times the schwartzchild radius, orbits are not stable and matter is sucked in. Therefore, there would not be much light-emitting matter in the region between the schwartzchild diameter (16 micro arcsecs) and the given diameter (42 micro-arcsecs). Therefore, the ring would appear at 3 times the Schwartzchild Radius (approx. 42 micro-arcsecs) because that is the radius at which light-emitting objects would be orbitting the black hole; any closer, and they would be sucked in."
   ]
  },
  {
   "cell_type": "code",
   "execution_count": 13,
   "metadata": {},
   "outputs": [],
   "source": [
    "def angular_size(object_diameter, distance_to_object):\n",
    "    '''\n",
    "    This function will take two parametres\n",
    "    (the physical diametre of the object, and its distance from earth)\n",
    "    and it will return the object's angular diametre\n",
    "    '''\n",
    "    angular_diameter = object_diameter * 206264 / distance_to_object\n",
    "    return(angular_diameter)\n",
    "\n",
    "# NOTE: I accidentally deleted the instruction for (8), and didn't know how to undo what I had done (ctrl+z didn't seem to be working)\n",
    "# so I just did what it had said anyways... just to avoid any confusion while you're grading this."
   ]
  },
  {
   "cell_type": "markdown",
   "metadata": {},
   "source": [
    "Now use the Jupyter notebook help functionality to view your doc string for your new function! If you execute the cell below like you do when you're running code, the information in your doc-string should show up."
   ]
  },
  {
   "cell_type": "code",
   "execution_count": 14,
   "metadata": {},
   "outputs": [
    {
     "data": {
      "text/plain": [
       "\u001b[1;31mSignature:\u001b[0m \u001b[0mangular_size\u001b[0m\u001b[1;33m(\u001b[0m\u001b[0mobject_diameter\u001b[0m\u001b[1;33m,\u001b[0m \u001b[0mdistance_to_object\u001b[0m\u001b[1;33m)\u001b[0m\u001b[1;33m\u001b[0m\u001b[1;33m\u001b[0m\u001b[0m\n",
       "\u001b[1;31mDocstring:\u001b[0m\n",
       "This function will take two parametres\n",
       "(the physical diametre of the object, and its distance from earth)\n",
       "and it will return the object's angular diametre\n",
       "\u001b[1;31mFile:\u001b[0m      c:\\users\\lowry\\desktop\\premapog\\homework\\<ipython-input-13-1cfc51d8ec16>\n",
       "\u001b[1;31mType:\u001b[0m      function\n"
      ]
     },
     "metadata": {},
     "output_type": "display_data"
    }
   ],
   "source": [
    "angular_size?"
   ]
  },
  {
   "cell_type": "markdown",
   "metadata": {},
   "source": [
    "**9)**\n",
    "Now, let's incorporate some lists and loops to utilize our functions! Create a numpy array called `masses` that contains 10 values between 10 and 1,000,000 spaced logarithmically (there is a `numpy` function for this). These values will be the masses of 10 black holes, for which we want to calculate the Schwartzchild radius. <br>\n",
    "\n",
    "For this assignment you will create two different for loops in the cells below. Both loops will be `for` loops that run your `schwartzchild_radius` function on each black hole mass in the array you created above, assuming the masses are in solar mass units. You should include a `print` statement in each loop before you call the `schwartzchild_radius` function that prints out the current black hole mass. <br>\n",
    "\n",
    "Look back at the notebook titled `04-control_flow_Lastname` and scroll to Example 7. **First**, you will make a `for` loop that follows the syntax of the first loop in that example (`for period in orbital_periods:`). **Second**, you will make a `for` loop that follows the syntax in the next code cell (`for i in range(5):`) where the range is the length of your `masses` array."
   ]
  },
  {
   "cell_type": "code",
   "execution_count": 15,
   "metadata": {},
   "outputs": [
    {
     "name": "stdout",
     "output_type": "stream",
     "text": [
      "[1.00000000e+01 3.59381366e+01 1.29154967e+02 4.64158883e+02\n",
      " 1.66810054e+03 5.99484250e+03 2.15443469e+04 7.74263683e+04\n",
      " 2.78255940e+05 1.00000000e+06]\n"
     ]
    }
   ],
   "source": [
    "masses = np.geomspace(10,1000000,10)\n",
    "print(masses)"
   ]
  },
  {
   "cell_type": "code",
   "execution_count": 16,
   "metadata": {},
   "outputs": [
    {
     "name": "stdout",
     "output_type": "stream",
     "text": [
      "The mass of the black hole is 10.0 solar masses. It's Schwartzchild Radius is:\n",
      "2954858.303829219 cm\n",
      "4.2454860687201425e-05 R(sun)\n",
      "The mass of the black hole is 35.938136638046274 solar masses. It's Schwartzchild Radius is:\n",
      "10619210.146908013 cm\n",
      "0.0001525748584325864 R(sun)\n",
      "The mass of the black hole is 129.1549665014884 solar masses. It's Schwartzchild Radius is:\n",
      "38163462.52477077 cm\n",
      "0.0005483256109880858 R(sun)\n",
      "The mass of the black hole is 464.1588833612782 solar masses. It's Schwartzchild Radius is:\n",
      "137152373.07961708 cm\n",
      "0.001970580072983004 R(sun)\n",
      "The mass of the black hole is 1668.100537200059 solar masses. It's Schwartzchild Radius is:\n",
      "492900072.3967576 cm\n",
      "0.0070818975919074365 R(sun)\n",
      "The mass of the black hole is 5994.8425031894085 solar masses. It's Schwartzchild Radius is:\n",
      "1771391015.0697567 cm\n",
      "0.025451020331462022 R(sun)\n",
      "The mass of the black hole is 21544.346900318866 solar masses. It's Schwartzchild Radius is:\n",
      "6366049233.898451 cm\n",
      "0.09146622462497775 R(sun)\n",
      "The mass of the black hole is 77426.36826811278 solar masses. It's Schwartzchild Radius is:\n",
      "22878394721.23722 cm\n",
      "0.3287125678338681 R(sun)\n",
      "The mass of the black hole is 278255.94022071257 solar masses. It's Schwartzchild Radius is:\n",
      "82220687555.09795 cm\n",
      "1.1813317177456601 R(sun)\n",
      "The mass of the black hole is 1000000.0 solar masses. It's Schwartzchild Radius is:\n",
      "295485830382.92194 cm\n",
      "4.245486068720143 R(sun)\n"
     ]
    }
   ],
   "source": [
    "for mass in masses:\n",
    "    print(\"The mass of the black hole is {} solar masses. It's Schwartzchild Radius is:\" .format(mass))\n",
    "    schwartzchild_radius(mass)"
   ]
  },
  {
   "cell_type": "code",
   "execution_count": 17,
   "metadata": {},
   "outputs": [
    {
     "name": "stdout",
     "output_type": "stream",
     "text": [
      "10.0\n",
      "2954858.303829219 cm\n",
      "4.2454860687201425e-05 R(sun)\n",
      "35.938136638046274\n",
      "10619210.146908013 cm\n",
      "0.0001525748584325864 R(sun)\n",
      "129.1549665014884\n",
      "38163462.52477077 cm\n",
      "0.0005483256109880858 R(sun)\n",
      "464.1588833612782\n",
      "137152373.07961708 cm\n",
      "0.001970580072983004 R(sun)\n",
      "1668.100537200059\n",
      "492900072.3967576 cm\n",
      "0.0070818975919074365 R(sun)\n",
      "5994.8425031894085\n",
      "1771391015.0697567 cm\n",
      "0.025451020331462022 R(sun)\n",
      "21544.346900318866\n",
      "6366049233.898451 cm\n",
      "0.09146622462497775 R(sun)\n",
      "77426.36826811278\n",
      "22878394721.23722 cm\n",
      "0.3287125678338681 R(sun)\n",
      "278255.94022071257\n",
      "82220687555.09795 cm\n",
      "1.1813317177456601 R(sun)\n",
      "1000000.0\n",
      "295485830382.92194 cm\n",
      "4.245486068720143 R(sun)\n"
     ]
    }
   ],
   "source": [
    "for i in range(len(masses)):\n",
    "    print(masses[i])\n",
    "    schwartzchild_radius(masses[i])"
   ]
  },
  {
   "cell_type": "markdown",
   "metadata": {},
   "source": [
    "**10)**\n",
    "Now copy your second `for` loop from the previous question into the cell below and edit it so that you only print out the black hole mass for the even-indexed black hole masses (indexes of 0, 2, 4, ...). You still want to calculate the Schwartzchild radius for each black hole mass."
   ]
  },
  {
   "cell_type": "code",
   "execution_count": 18,
   "metadata": {},
   "outputs": [],
   "source": [
    "# redefine the function because in previous examples it wanted me to print the radii within the function (part (3))\n",
    "# now I simply need to return the function\n",
    "\n",
    "def schwartzchild_radius(bh_mass):\n",
    "    event_horizon = 2 * G * bh_mass * 1.99e33 / (c**2)\n",
    "    return(event_horizon / (6.96e10))"
   ]
  },
  {
   "cell_type": "code",
   "execution_count": 19,
   "metadata": {},
   "outputs": [
    {
     "name": "stdout",
     "output_type": "stream",
     "text": [
      "A B.H. of 10.0 M(sun) will have a Schwartzchild Radius of 4.2454860687201425e-05 R(sun).\n",
      "A B.H. of 129.1549665014884 M(sun) will have a Schwartzchild Radius of 0.0005483256109880858 R(sun).\n",
      "A B.H. of 1668.100537200059 M(sun) will have a Schwartzchild Radius of 0.0070818975919074365 R(sun).\n",
      "A B.H. of 21544.346900318866 M(sun) will have a Schwartzchild Radius of 0.09146622462497775 R(sun).\n",
      "A B.H. of 278255.94022071257 M(sun) will have a Schwartzchild Radius of 1.1813317177456601 R(sun).\n"
     ]
    }
   ],
   "source": [
    "for i in range(len(masses)):\n",
    "    if i % 2 == 0:\n",
    "        print(\"A B.H. of {} M(sun) will have a Schwartzchild Radius of {} R(sun).\" .format(masses[i] , schwartzchild_radius(masses[i])))\n",
    "    else:\n",
    "        schwartzchild_radius(masses[i]) # this way I still calculate the Sch. Radius, but do not print it"
   ]
  }
 ],
 "metadata": {
  "kernelspec": {
   "display_name": "Python 3",
   "language": "python",
   "name": "python3"
  },
  "language_info": {
   "codemirror_mode": {
    "name": "ipython",
    "version": 3
   },
   "file_extension": ".py",
   "mimetype": "text/x-python",
   "name": "python",
   "nbconvert_exporter": "python",
   "pygments_lexer": "ipython3",
   "version": "3.8.5"
  }
 },
 "nbformat": 4,
 "nbformat_minor": 4
}
